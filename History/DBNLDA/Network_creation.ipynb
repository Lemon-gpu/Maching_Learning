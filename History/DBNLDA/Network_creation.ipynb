{
 "cells": [
  {
   "cell_type": "code",
   "execution_count": 8,
   "metadata": {},
   "outputs": [],
   "source": [
    "import pandas as pd\n",
    "import numpy as np\n",
    "import networkx as nx"
   ]
  },
  {
   "cell_type": "markdown",
   "metadata": {},
   "source": [
    "# LncRNA- Disease Dataset\n",
    "Total no. of lncRNAs= 240\n",
    "\n",
    "Total no of Diseases= 412\n",
    "\n",
    "Total no of miRNAs = 495\n",
    "\n",
    "Total no. of lnc-Dis interaction = 2697"
   ]
  },
  {
   "cell_type": "code",
   "execution_count": 11,
   "metadata": {},
   "outputs": [
    {
     "name": "stdout",
     "output_type": "stream",
     "text": [
      "Lnc= 240 miRNA= 495 Diseases= 412\n"
     ]
    }
   ],
   "source": [
    "lncrnas = pd.read_csv('lncRNAs.csv')\n",
    "lncrnas = list(lncrnas['lncrna'])\n",
    "\n",
    "diseases = pd.read_csv('diseases.csv')\n",
    "diseases =list(diseases['disease'])\n",
    "\n",
    "mirnas = pd.read_csv('miRNAs.csv')\n",
    "mirnas = list(mirnas['mirna'])\n",
    "\n",
    "print(\"Lnc=\",len(lncrnas),\"miRNA=\",len(mirnas),\"Diseases=\",len(diseases))"
   ]
  },
  {
   "cell_type": "code",
   "execution_count": 12,
   "metadata": {},
   "outputs": [],
   "source": [
    "def name2id(names,label):\n",
    "    name2id_dic = {}\n",
    "    n=1\n",
    "    for name in names:\n",
    "        name2id_dic[name]=label+str(n)\n",
    "        n+=1\n",
    "    return name2id_dic\n",
    "\n",
    "def id2name(ids):\n",
    "    pass\n",
    "\n"
   ]
  },
  {
   "cell_type": "code",
   "execution_count": 13,
   "metadata": {},
   "outputs": [],
   "source": [
    "lnc2id = name2id(lncrnas,'L')\n",
    "mir2id = name2id(mirnas, 'M')\n",
    "dis2id = name2id(diseases,'D')\n",
    "\n",
    "lncIdx = [lnc2id[lnc] for lnc in lncrnas]\n",
    "mirIdx = [mir2id[mir] for mir in mirnas]\n",
    "disIdx = [dis2id[dis] for dis in diseases]\n",
    "\n",
    "#lncIdx[:10],mirIdx[:10],disIdx[:10]"
   ]
  },
  {
   "cell_type": "code",
   "execution_count": 14,
   "metadata": {},
   "outputs": [
    {
     "data": {
      "text/plain": [
       "(239, 412)"
      ]
     },
     "execution_count": 14,
     "metadata": {},
     "output_type": "execute_result"
    }
   ],
   "source": [
    "lnc_dis_df = pd.read_csv('lncRNA-disease.csv')\n",
    "lnc_dis_df.shape"
   ]
  },
  {
   "cell_type": "code",
   "execution_count": 17,
   "metadata": {},
   "outputs": [
    {
     "ename": "KeyError",
     "evalue": "'D1'",
     "output_type": "error",
     "traceback": [
      "\u001b[1;31m---------------------------------------------------------------------------\u001b[0m",
      "\u001b[1;31mKeyError\u001b[0m                                  Traceback (most recent call last)",
      "\u001b[1;32mD:\\ProgramData\\Anaconda3\\envs\\DBN\\lib\\site-packages\\pandas\\core\\indexes\\base.py\u001b[0m in \u001b[0;36mget_loc\u001b[1;34m(self, key, method, tolerance)\u001b[0m\n\u001b[0;32m   2897\u001b[0m             \u001b[1;32mtry\u001b[0m\u001b[1;33m:\u001b[0m\u001b[1;33m\u001b[0m\u001b[1;33m\u001b[0m\u001b[0m\n\u001b[1;32m-> 2898\u001b[1;33m                 \u001b[1;32mreturn\u001b[0m \u001b[0mself\u001b[0m\u001b[1;33m.\u001b[0m\u001b[0m_engine\u001b[0m\u001b[1;33m.\u001b[0m\u001b[0mget_loc\u001b[0m\u001b[1;33m(\u001b[0m\u001b[0mcasted_key\u001b[0m\u001b[1;33m)\u001b[0m\u001b[1;33m\u001b[0m\u001b[1;33m\u001b[0m\u001b[0m\n\u001b[0m\u001b[0;32m   2899\u001b[0m             \u001b[1;32mexcept\u001b[0m \u001b[0mKeyError\u001b[0m \u001b[1;32mas\u001b[0m \u001b[0merr\u001b[0m\u001b[1;33m:\u001b[0m\u001b[1;33m\u001b[0m\u001b[1;33m\u001b[0m\u001b[0m\n",
      "\u001b[1;32mpandas\\_libs\\index.pyx\u001b[0m in \u001b[0;36mpandas._libs.index.IndexEngine.get_loc\u001b[1;34m()\u001b[0m\n",
      "\u001b[1;32mpandas\\_libs\\index.pyx\u001b[0m in \u001b[0;36mpandas._libs.index.IndexEngine.get_loc\u001b[1;34m()\u001b[0m\n",
      "\u001b[1;32mpandas\\_libs\\hashtable_class_helper.pxi\u001b[0m in \u001b[0;36mpandas._libs.hashtable.PyObjectHashTable.get_item\u001b[1;34m()\u001b[0m\n",
      "\u001b[1;32mpandas\\_libs\\hashtable_class_helper.pxi\u001b[0m in \u001b[0;36mpandas._libs.hashtable.PyObjectHashTable.get_item\u001b[1;34m()\u001b[0m\n",
      "\u001b[1;31mKeyError\u001b[0m: 'D1'",
      "\nThe above exception was the direct cause of the following exception:\n",
      "\u001b[1;31mKeyError\u001b[0m                                  Traceback (most recent call last)",
      "\u001b[1;32m<ipython-input-17-9a3d52aed789>\u001b[0m in \u001b[0;36m<module>\u001b[1;34m\u001b[0m\n\u001b[0;32m      1\u001b[0m \u001b[0mtemp\u001b[0m \u001b[1;33m=\u001b[0m\u001b[1;33m{\u001b[0m\u001b[1;33m}\u001b[0m\u001b[1;33m\u001b[0m\u001b[1;33m\u001b[0m\u001b[0m\n\u001b[0;32m      2\u001b[0m \u001b[1;32mfor\u001b[0m \u001b[0mdis\u001b[0m \u001b[1;32min\u001b[0m \u001b[0mdisIdx\u001b[0m\u001b[1;33m:\u001b[0m\u001b[1;33m\u001b[0m\u001b[1;33m\u001b[0m\u001b[0m\n\u001b[1;32m----> 3\u001b[1;33m     \u001b[0mtemp\u001b[0m\u001b[1;33m[\u001b[0m\u001b[0mdis\u001b[0m\u001b[1;33m]\u001b[0m\u001b[1;33m=\u001b[0m\u001b[0mlnc_dis_df\u001b[0m\u001b[1;33m[\u001b[0m\u001b[0mdis\u001b[0m\u001b[1;33m]\u001b[0m\u001b[1;33m.\u001b[0m\u001b[0mvalues\u001b[0m\u001b[1;33m\u001b[0m\u001b[1;33m\u001b[0m\u001b[0m\n\u001b[0m\u001b[0;32m      4\u001b[0m \u001b[0mlnc_dis_dict\u001b[0m\u001b[1;33m=\u001b[0m\u001b[1;33m{\u001b[0m\u001b[1;33m}\u001b[0m\u001b[1;33m\u001b[0m\u001b[1;33m\u001b[0m\u001b[0m\n\u001b[0;32m      5\u001b[0m \u001b[1;33m\u001b[0m\u001b[0m\n",
      "\u001b[1;32mD:\\ProgramData\\Anaconda3\\envs\\DBN\\lib\\site-packages\\pandas\\core\\frame.py\u001b[0m in \u001b[0;36m__getitem__\u001b[1;34m(self, key)\u001b[0m\n\u001b[0;32m   2904\u001b[0m             \u001b[1;32mif\u001b[0m \u001b[0mself\u001b[0m\u001b[1;33m.\u001b[0m\u001b[0mcolumns\u001b[0m\u001b[1;33m.\u001b[0m\u001b[0mnlevels\u001b[0m \u001b[1;33m>\u001b[0m \u001b[1;36m1\u001b[0m\u001b[1;33m:\u001b[0m\u001b[1;33m\u001b[0m\u001b[1;33m\u001b[0m\u001b[0m\n\u001b[0;32m   2905\u001b[0m                 \u001b[1;32mreturn\u001b[0m \u001b[0mself\u001b[0m\u001b[1;33m.\u001b[0m\u001b[0m_getitem_multilevel\u001b[0m\u001b[1;33m(\u001b[0m\u001b[0mkey\u001b[0m\u001b[1;33m)\u001b[0m\u001b[1;33m\u001b[0m\u001b[1;33m\u001b[0m\u001b[0m\n\u001b[1;32m-> 2906\u001b[1;33m             \u001b[0mindexer\u001b[0m \u001b[1;33m=\u001b[0m \u001b[0mself\u001b[0m\u001b[1;33m.\u001b[0m\u001b[0mcolumns\u001b[0m\u001b[1;33m.\u001b[0m\u001b[0mget_loc\u001b[0m\u001b[1;33m(\u001b[0m\u001b[0mkey\u001b[0m\u001b[1;33m)\u001b[0m\u001b[1;33m\u001b[0m\u001b[1;33m\u001b[0m\u001b[0m\n\u001b[0m\u001b[0;32m   2907\u001b[0m             \u001b[1;32mif\u001b[0m \u001b[0mis_integer\u001b[0m\u001b[1;33m(\u001b[0m\u001b[0mindexer\u001b[0m\u001b[1;33m)\u001b[0m\u001b[1;33m:\u001b[0m\u001b[1;33m\u001b[0m\u001b[1;33m\u001b[0m\u001b[0m\n\u001b[0;32m   2908\u001b[0m                 \u001b[0mindexer\u001b[0m \u001b[1;33m=\u001b[0m \u001b[1;33m[\u001b[0m\u001b[0mindexer\u001b[0m\u001b[1;33m]\u001b[0m\u001b[1;33m\u001b[0m\u001b[1;33m\u001b[0m\u001b[0m\n",
      "\u001b[1;32mD:\\ProgramData\\Anaconda3\\envs\\DBN\\lib\\site-packages\\pandas\\core\\indexes\\base.py\u001b[0m in \u001b[0;36mget_loc\u001b[1;34m(self, key, method, tolerance)\u001b[0m\n\u001b[0;32m   2898\u001b[0m                 \u001b[1;32mreturn\u001b[0m \u001b[0mself\u001b[0m\u001b[1;33m.\u001b[0m\u001b[0m_engine\u001b[0m\u001b[1;33m.\u001b[0m\u001b[0mget_loc\u001b[0m\u001b[1;33m(\u001b[0m\u001b[0mcasted_key\u001b[0m\u001b[1;33m)\u001b[0m\u001b[1;33m\u001b[0m\u001b[1;33m\u001b[0m\u001b[0m\n\u001b[0;32m   2899\u001b[0m             \u001b[1;32mexcept\u001b[0m \u001b[0mKeyError\u001b[0m \u001b[1;32mas\u001b[0m \u001b[0merr\u001b[0m\u001b[1;33m:\u001b[0m\u001b[1;33m\u001b[0m\u001b[1;33m\u001b[0m\u001b[0m\n\u001b[1;32m-> 2900\u001b[1;33m                 \u001b[1;32mraise\u001b[0m \u001b[0mKeyError\u001b[0m\u001b[1;33m(\u001b[0m\u001b[0mkey\u001b[0m\u001b[1;33m)\u001b[0m \u001b[1;32mfrom\u001b[0m \u001b[0merr\u001b[0m\u001b[1;33m\u001b[0m\u001b[1;33m\u001b[0m\u001b[0m\n\u001b[0m\u001b[0;32m   2901\u001b[0m \u001b[1;33m\u001b[0m\u001b[0m\n\u001b[0;32m   2902\u001b[0m         \u001b[1;32mif\u001b[0m \u001b[0mtolerance\u001b[0m \u001b[1;32mis\u001b[0m \u001b[1;32mnot\u001b[0m \u001b[1;32mNone\u001b[0m\u001b[1;33m:\u001b[0m\u001b[1;33m\u001b[0m\u001b[1;33m\u001b[0m\u001b[0m\n",
      "\u001b[1;31mKeyError\u001b[0m: 'D1'"
     ]
    }
   ],
   "source": [
    "temp ={}\n",
    "for dis in disIdx:\n",
    "    temp[dis]=lnc_dis_df[dis].values\n",
    "lnc_dis_dict={}\n",
    "\n",
    "n=0\n",
    "for lnc in lncIdx:\n",
    "    t={}\n",
    "    for dis in disIdx:\n",
    "        t[dis]=temp[dis][n]\n",
    "    lnc_dis_dict[lnc]=t\n",
    "    n+=1\n",
    "\n",
    "#temp['D2'].shape,len(lnc_dis_dict['L45'])\n",
    "#print(lnc_dis_dict['L2'])\n",
    "    \n",
    "#lnc_dis_df.head(2)\n",
    "        "
   ]
  },
  {
   "cell_type": "code",
   "execution_count": null,
   "metadata": {},
   "outputs": [],
   "source": [
    "lnc_dis_adj_list = []\n",
    "for lnc in lncIdx:\n",
    "    for dis in disIdx:\n",
    "        lnc_dis_adj_list.append((lnc,dis,lnc_dis_dict[lnc][dis]))\n",
    "len(lnc_dis_adj_list)"
   ]
  },
  {
   "cell_type": "code",
   "execution_count": null,
   "metadata": {},
   "outputs": [],
   "source": [
    "pos=[]\n",
    "pos_lnc =[]\n",
    "pos_dis =[]\n",
    "for lnc in lncIdx:\n",
    "    for dis in disIdx:\n",
    "        if lnc_dis_dict[lnc][dis]>0:\n",
    "            pos.append((lnc,dis,1))\n",
    "            if lnc not in pos_lnc: pos_lnc.append(lnc)\n",
    "            if dis not in pos_dis: pos_dis.append(dis)\n",
    "print (len(pos_lnc),len(pos_dis),len(pos))\n"
   ]
  },
  {
   "cell_type": "code",
   "execution_count": null,
   "metadata": {},
   "outputs": [],
   "source": [
    "neg_all=[]\n",
    "for lnc in lncIdx:\n",
    "    for dis in disIdx:\n",
    "        if lnc_dis_dict[lnc][dis]==0:\n",
    "            neg_all.append((lnc,dis,0))\n",
    "\n",
    "print(len(neg_all))"
   ]
  },
  {
   "cell_type": "code",
   "execution_count": null,
   "metadata": {},
   "outputs": [],
   "source": [
    "import random\n",
    "random.seed(1024)\n",
    "neg = random.sample(neg_all,2697)"
   ]
  },
  {
   "cell_type": "code",
   "execution_count": null,
   "metadata": {},
   "outputs": [],
   "source": [
    "len(set([l[0] for l in neg])),len(set([l[1] for l in neg])),len(neg)"
   ]
  },
  {
   "cell_type": "code",
   "execution_count": null,
   "metadata": {},
   "outputs": [],
   "source": [
    "random.shuffle(pos)\n",
    "random.shuffle(neg)"
   ]
  },
  {
   "cell_type": "code",
   "execution_count": null,
   "metadata": {},
   "outputs": [],
   "source": [
    "total = len(pos)\n",
    "train = pos[:int(total*0.8)]\n",
    "train += neg[:int(total*0.8)]\n",
    "test = pos[int(total*0.8):]\n",
    "test += neg[int(total*0.8):]\n",
    "len(train),len(test)"
   ]
  },
  {
   "cell_type": "code",
   "execution_count": null,
   "metadata": {},
   "outputs": [],
   "source": [
    "random.shuffle(train)\n",
    "random.shuffle(test)"
   ]
  },
  {
   "cell_type": "code",
   "execution_count": null,
   "metadata": {},
   "outputs": [],
   "source": [
    "fp=open('X_train.txt','w')\n",
    "[fp.write(pair[0]+','+pair[1]+'\\n') for pair in train]\n",
    "fp.close()\n",
    "\n",
    "fp=open('X_test.txt','w')\n",
    "[fp.write(pair[0]+','+pair[1]+'\\n') for pair in test]\n",
    "fp.close()\n",
    "\n",
    "fp=open('y_train.txt','w')\n",
    "[fp.write(str(pair[2])+'\\n') for pair in train]\n",
    "fp.close()\n",
    "\n",
    "fp=open('y_test.txt','w')\n",
    "[fp.write(str(pair[2])+'\\n') for pair in test]\n",
    "fp.close()"
   ]
  },
  {
   "cell_type": "markdown",
   "metadata": {},
   "source": [
    "# LDA: LncRNA-Disease Network"
   ]
  },
  {
   "cell_type": "code",
   "execution_count": null,
   "metadata": {},
   "outputs": [],
   "source": [
    "lnc_dis_adj_list = []\n",
    "s=0\n",
    "fp=open('lda.edgelist','w')\n",
    "for lnc in lncIdx:\n",
    "    for dis in disIdx:\n",
    "        s+=int(bool(fp.write(lnc+'\\t'+dis+'\\t'+str(lnc_dis_dict[lnc][dis])+'\\n')))\n",
    "print(s)\n",
    "fp.close()\n"
   ]
  },
  {
   "cell_type": "code",
   "execution_count": null,
   "metadata": {},
   "outputs": [],
   "source": [
    "lda_graph = nx.read_weighted_edgelist('lda.edgelist',delimiter=\"\\t\")\n",
    "lda_adj = nx.adjacency_matrix(lda_graph)\n",
    "lda_adj.shape"
   ]
  },
  {
   "cell_type": "code",
   "execution_count": null,
   "metadata": {},
   "outputs": [],
   "source": [
    "from matplotlib import pyplot as plt\n",
    "%matplotlib inline\n",
    "\n",
    "nx.draw(lda_graph,node_color=colors, cmap = plt.get_cmap('rainbow'), with_labels=True,pos=nx.spring_layout (lda_graph))"
   ]
  },
  {
   "cell_type": "code",
   "execution_count": null,
   "metadata": {},
   "outputs": [],
   "source": [
    "print(\"Before:\",lda_graph.number_of_nodes(),lda_graph.number_of_edges())\n",
    "for edge in lda_graph.edges:\n",
    "    if lda_graph.get_edge_data(edge[0],edge[1])['weight']<=0.0:\n",
    "        lda_graph.remove_edge(edge[0],edge[1])\n",
    "print(\"After:\",lda_graph.number_of_nodes(),lda_graph.number_of_edges())"
   ]
  },
  {
   "cell_type": "code",
   "execution_count": null,
   "metadata": {},
   "outputs": [],
   "source": [
    "from node2vec import Node2Vec"
   ]
  },
  {
   "cell_type": "code",
   "execution_count": null,
   "metadata": {},
   "outputs": [],
   "source": [
    "node2vec = Node2Vec(lda_graph, dimensions=64, walk_length=10, num_walks=100, workers=4)\n",
    "model = node2vec.fit(window=10, min_count=1, batch_words=4)"
   ]
  },
  {
   "cell_type": "code",
   "execution_count": null,
   "metadata": {},
   "outputs": [],
   "source": [
    "ld_l_vec={}\n",
    "for lnc in lncIdx:\n",
    "    ld_l_vec[lnc]=model.wv.get_vector(lnc)\n",
    "\n",
    "ld_d_vec={}\n",
    "for dis in disIdx:\n",
    "    ld_d_vec[dis]=model.wv.get_vector(dis)\n",
    "\n",
    "len(ld_l_vec),len(ld_d_vec)"
   ]
  },
  {
   "cell_type": "code",
   "execution_count": null,
   "metadata": {},
   "outputs": [],
   "source": [
    "X_train_ld =[]\n",
    "for ld in train:\n",
    "    ld_vec = np.concatenate((ld_l_vec[ld[0]],ld_d_vec[ld[1]]))\n",
    "    X_train_ld.append(ld_vec)\n",
    "X_train_ld = np.array(X_train_ld)\n",
    "\n",
    "X_test_ld =[]\n",
    "for ld in test:\n",
    "    ld_vec = np.concatenate((ld_l_vec[ld[0]],ld_d_vec[ld[1]]))\n",
    "    X_test_ld.append(ld_vec)\n",
    "X_test_ld = np.array(X_test_ld)\n",
    "\n",
    "X_train_ld.shape, X_test_ld.shape"
   ]
  },
  {
   "cell_type": "code",
   "execution_count": null,
   "metadata": {},
   "outputs": [],
   "source": [
    "np.save('X_train_ld.npy',X_train_ld)\n",
    "np.save('X_test_ld.npy',X_test_ld)"
   ]
  },
  {
   "cell_type": "markdown",
   "metadata": {},
   "source": [
    "# LMS: lncRNA-miRNA-lncRNA interaction network"
   ]
  },
  {
   "cell_type": "code",
   "execution_count": null,
   "metadata": {},
   "outputs": [],
   "source": [
    "lnc_mir_df = pd.read_csv('lncRNA-miRNA.csv')\n",
    "lnc_mir_df.shape"
   ]
  },
  {
   "cell_type": "code",
   "execution_count": null,
   "metadata": {},
   "outputs": [],
   "source": [
    "#lnc_mir_df.values[0][1:]"
   ]
  },
  {
   "cell_type": "code",
   "execution_count": null,
   "metadata": {},
   "outputs": [],
   "source": [
    "lnc_mir_values=lnc_mir_df.values\n",
    "lnc_mir_dic={}\n",
    "for i in range(lnc_mir_df.shape[0]):\n",
    "    lnc = lnc_mir_values[i][0]\n",
    "    lnc_mir_dic[lnc]={mirIdx[j-1]:lnc_mir_values[i][j] for j in range(1,lnc_mir_df.shape[1])}\n",
    "#lnc_mir_dic['L1']['M2']"
   ]
  },
  {
   "cell_type": "code",
   "execution_count": null,
   "metadata": {},
   "outputs": [],
   "source": [
    "count=0\n",
    "pos_lnc_mir =[]\n",
    "pos_mir =[]\n",
    "for lnc in lncIdx:\n",
    "    for mir in mirIdx:\n",
    "        if lnc_mir_dic[lnc][mir]>0:\n",
    "            count+=1\n",
    "            if lnc not in pos_lnc_mir:\n",
    "                pos_lnc_mir.append(lnc)\n",
    "            if mir not in pos_mir:\n",
    "                pos_mir.append(mir)\n",
    "print(len(pos_lnc_mir),len(pos_mir),count)"
   ]
  },
  {
   "cell_type": "code",
   "execution_count": null,
   "metadata": {},
   "outputs": [],
   "source": [
    "fp = open('lnc_mir.edgelist','w')\n",
    "for lnc in lncIdx:\n",
    "    for mir in mirIdx:\n",
    "        fp.write(lnc+'\\t'+mir+'\\t'+str(lnc_mir_dic[lnc][mir])+'\\n')\n",
    "fp.close()\n"
   ]
  },
  {
   "cell_type": "code",
   "execution_count": null,
   "metadata": {},
   "outputs": [],
   "source": [
    "lnc_mir_graph = nx.read_weighted_edgelist('lnc_mir.edgelist',delimiter='\\t')\n",
    "#nx.draw(lnc_mir_graph, cmap = plt.get_cmap('rainbow'), with_labels=True,pos=nx.spring_layout (lnc_mir_graph))"
   ]
  },
  {
   "cell_type": "code",
   "execution_count": null,
   "metadata": {},
   "outputs": [],
   "source": [
    "lnc_lnc_df = pd.read_csv('lncRNA-lncRNA.csv')\n",
    "lnc_lnc_values=lnc_lnc_df.values\n",
    "lnc_lnc_dic={}\n",
    "for i in range(lnc_lnc_df.shape[0]):\n",
    "    lnc = lnc_lnc_df.values[i][0]\n",
    "    lnc_lnc_dic[lnc]={lncIdx[j-1]:lnc_lnc_values[i][j] for j in range(1,lnc_lnc_df.shape[1])}\n"
   ]
  },
  {
   "cell_type": "code",
   "execution_count": null,
   "metadata": {},
   "outputs": [],
   "source": [
    "fp = open('lnc_lnc.edgelist','w')\n",
    "for lnc1 in lncIdx:\n",
    "    for lnc2 in lncIdx:\n",
    "        fp.write(lnc1+'\\t'+lnc2+'\\t'+str(lnc_lnc_dic[lnc1][lnc2])+'\\n')\n",
    "fp.close()"
   ]
  },
  {
   "cell_type": "code",
   "execution_count": null,
   "metadata": {},
   "outputs": [],
   "source": [
    "lnc_lnc_edges = open('lnc_lnc.edgelist').read()\n",
    "lnc_mir_edges = open('lnc_mir.edgelist').read()\n",
    "fp= open('lnc_mir_lnc.edgelist','w')\n",
    "fp.write(lnc_lnc_edges)\n",
    "fp.write(lnc_mir_edges)\n",
    "fp.close()"
   ]
  },
  {
   "cell_type": "code",
   "execution_count": null,
   "metadata": {},
   "outputs": [],
   "source": [
    "lml_graph = nx.read_weighted_edgelist('lnc_mir_lnc.edgelist',delimiter='\\t')"
   ]
  },
  {
   "cell_type": "code",
   "execution_count": null,
   "metadata": {},
   "outputs": [],
   "source": [
    "print(\"Before:\",lml_graph.number_of_nodes(),lml_graph.number_of_edges())\n",
    "for edge in lml_graph.edges:\n",
    "    if lml_graph.get_edge_data(edge[0],edge[1])['weight']<=0.0:\n",
    "        lml_graph.remove_edge(edge[0],edge[1])\n",
    "print(\"After:\",lml_graph.number_of_nodes(),lml_graph.number_of_edges())"
   ]
  },
  {
   "cell_type": "code",
   "execution_count": null,
   "metadata": {},
   "outputs": [],
   "source": [
    "node2vec = Node2Vec(lml_graph, dimensions=64, walk_length=10, num_walks=100, workers=4)\n",
    "model = node2vec.fit(window=10, min_count=1, batch_words=4)"
   ]
  },
  {
   "cell_type": "code",
   "execution_count": null,
   "metadata": {},
   "outputs": [],
   "source": [
    "lm_l_vec={}\n",
    "for lnc in lncIdx:\n",
    "    lm_l_vec[lnc]=model.wv.get_vector(lnc)"
   ]
  },
  {
   "cell_type": "code",
   "execution_count": null,
   "metadata": {},
   "outputs": [],
   "source": [
    "lm_l_vec['L2'].shape"
   ]
  },
  {
   "cell_type": "markdown",
   "metadata": {},
   "source": [
    "# DMS: Disease- miRNA- Disease Network"
   ]
  },
  {
   "cell_type": "code",
   "execution_count": null,
   "metadata": {},
   "outputs": [],
   "source": [
    "dis_mir_df = pd.read_csv ('miRNA-disease.csv', header=None)\n",
    "dis_mir_df = dis_mir_df.transpose()\n",
    "dis_mir_df.shape"
   ]
  },
  {
   "cell_type": "code",
   "execution_count": null,
   "metadata": {},
   "outputs": [],
   "source": [
    "dis_mir_values=dis_mir_df.values\n",
    "dis_mir_dic={}\n",
    "for i in range(dis_mir_df.shape[0]):\n",
    "    dis = disIdx[i]\n",
    "    dis_mir_dic[dis]={mirIdx[j]:dis_mir_values[i][j] for j in range(dis_mir_df.shape[1])}\n"
   ]
  },
  {
   "cell_type": "code",
   "execution_count": null,
   "metadata": {},
   "outputs": [],
   "source": [
    "dis_dis_df = pd.read_csv ('disease-disease.csv',sep='\\t', header=None)\n",
    "dis_dis_df.shape"
   ]
  },
  {
   "cell_type": "code",
   "execution_count": null,
   "metadata": {},
   "outputs": [],
   "source": [
    "dis_dis_values=dis_dis_df.values\n",
    "dis_dis_dic={}\n",
    "for i in range(dis_dis_df.shape[0]):\n",
    "    dis = disIdx[i]\n",
    "    dis_dis_dic[dis]={disIdx[j]:dis_dis_values[i][j] for j in range(dis_dis_df.shape[1])}\n"
   ]
  },
  {
   "cell_type": "code",
   "execution_count": null,
   "metadata": {},
   "outputs": [],
   "source": [
    "dis_mir_edges=''\n",
    "for dis in disIdx:\n",
    "    for mir in mirIdx:\n",
    "        dis_mir_edges+=dis+'\\t'+mir+'\\t'+str(dis_mir_dic[dis][mir])+'\\n'\n",
    "\n",
    "dis_dis_edges =''\n",
    "for dis in disIdx:\n",
    "    for dis in disIdx:\n",
    "        dis_dis_edges+=dis+'\\t'+dis+'\\t'+str(dis_dis_dic[dis][dis])+'\\n'\n",
    "\n",
    "fp = open('dis_mir_dis.edgelist','w')\n",
    "fp.write(dis_mir_edges+dis_dis_edges)\n",
    "fp.close()"
   ]
  },
  {
   "cell_type": "code",
   "execution_count": null,
   "metadata": {},
   "outputs": [],
   "source": [
    "dmd_graph = nx.read_weighted_edgelist('dis_mir_dis.edgelist',delimiter='\\t')"
   ]
  },
  {
   "cell_type": "code",
   "execution_count": null,
   "metadata": {},
   "outputs": [],
   "source": [
    "print(\"Before:\",dmd_graph.number_of_nodes(),dmd_graph.number_of_edges())\n",
    "for edge in dmd_graph.edges:\n",
    "    if dmd_graph.get_edge_data(edge[0],edge[1])['weight']<=0.0:\n",
    "        dmd_graph.remove_edge(edge[0],edge[1])\n",
    "print(\"After:\",dmd_graph.number_of_nodes(),dmd_graph.number_of_edges())"
   ]
  },
  {
   "cell_type": "code",
   "execution_count": null,
   "metadata": {},
   "outputs": [],
   "source": [
    "node2vec = Node2Vec(dmd_graph, dimensions=64, walk_length=10, num_walks=100, workers=4)\n",
    "model = node2vec.fit(window=10, min_count=1, batch_words=4)"
   ]
  },
  {
   "cell_type": "code",
   "execution_count": null,
   "metadata": {},
   "outputs": [],
   "source": [
    "dm_d_vec={}\n",
    "for dis in disIdx:\n",
    "    dm_d_vec[dis]=model.wv.get_vector(dis)"
   ]
  },
  {
   "cell_type": "markdown",
   "metadata": {},
   "source": [
    "## Combine node vectors from LMS and DMS networks "
   ]
  },
  {
   "cell_type": "code",
   "execution_count": null,
   "metadata": {},
   "outputs": [],
   "source": [
    "X_train_lmd =[]\n",
    "for ld in train:\n",
    "    ld_vec = np.concatenate((lm_l_vec[ld[0]],dm_d_vec[ld[1]]))\n",
    "    X_train_lmd.append(ld_vec)\n",
    "X_train_lmd = np.array(X_train_lmd)\n",
    "\n",
    "X_test_lmd =[]\n",
    "for ld in test:\n",
    "    ld_vec = np.concatenate((lm_l_vec[ld[0]],dm_d_vec[ld[1]]))\n",
    "    X_test_lmd.append(ld_vec)\n",
    "X_test_lmd = np.array(X_test_lmd)\n",
    "\n",
    "X_train_lmd.shape, X_test_lmd.shape"
   ]
  },
  {
   "cell_type": "code",
   "execution_count": null,
   "metadata": {},
   "outputs": [],
   "source": [
    "np.save('X_train_lmd.npy',X_train_lmd)\n",
    "np.save('X_test_lmd.npy',X_test_lmd)"
   ]
  },
  {
   "cell_type": "code",
   "execution_count": null,
   "metadata": {},
   "outputs": [],
   "source": []
  }
 ],
 "metadata": {
  "kernelspec": {
   "display_name": "Python 3",
   "language": "python",
   "name": "python3"
  },
  "language_info": {
   "codemirror_mode": {
    "name": "ipython",
    "version": 3
   },
   "file_extension": ".py",
   "mimetype": "text/x-python",
   "name": "python",
   "nbconvert_exporter": "python",
   "pygments_lexer": "ipython3",
   "version": "3.6.13"
  }
 },
 "nbformat": 4,
 "nbformat_minor": 2
}
