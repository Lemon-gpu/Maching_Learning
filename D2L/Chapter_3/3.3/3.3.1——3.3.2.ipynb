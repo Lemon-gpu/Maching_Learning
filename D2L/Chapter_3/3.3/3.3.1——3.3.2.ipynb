{
 "cells": [
  {
   "cell_type": "code",
   "execution_count": 7,
   "metadata": {},
   "outputs": [
    {
     "data": {
      "text/plain": [
       "['c:\\\\Users\\\\ss666\\\\OneDrive\\\\MyJob\\\\Maching_Learning\\\\D2L\\\\Chapter_3\\\\3.3',\n",
       " 'd:\\\\ProgramData\\\\Anaconda3\\\\python38.zip',\n",
       " 'd:\\\\ProgramData\\\\Anaconda3\\\\DLLs',\n",
       " 'd:\\\\ProgramData\\\\Anaconda3\\\\lib',\n",
       " 'd:\\\\ProgramData\\\\Anaconda3',\n",
       " '',\n",
       " 'd:\\\\ProgramData\\\\Anaconda3\\\\lib\\\\site-packages',\n",
       " 'd:\\\\ProgramData\\\\Anaconda3\\\\lib\\\\site-packages\\\\locket-0.2.1-py3.8.egg',\n",
       " 'd:\\\\ProgramData\\\\Anaconda3\\\\lib\\\\site-packages\\\\win32',\n",
       " 'd:\\\\ProgramData\\\\Anaconda3\\\\lib\\\\site-packages\\\\win32\\\\lib',\n",
       " 'd:\\\\ProgramData\\\\Anaconda3\\\\lib\\\\site-packages\\\\Pythonwin',\n",
       " 'd:\\\\ProgramData\\\\Anaconda3\\\\lib\\\\site-packages\\\\IPython\\\\extensions',\n",
       " 'C:\\\\Users\\\\ss666\\\\.ipython',\n",
       " 'C:\\\\Users\\\\ss666\\\\AppData\\\\Roaming\\\\Python\\\\Python38\\\\site-packages',\n",
       " 'C:\\\\Users\\\\ss666\\\\OneDrive\\\\MyJob\\\\Maching_Learning\\\\D2L',\n",
       " 'C:\\\\Users\\\\ss666\\\\OneDrive\\\\MyJob\\\\Maching_Learning\\\\D2L']"
      ]
     },
     "execution_count": 7,
     "metadata": {},
     "output_type": "execute_result"
    }
   ],
   "source": [
    "import sys\n",
    "sys.path.append(r\"C:\\Users\\ss666\\OneDrive\\MyJob\\Maching_Learning\\D2L\")\n",
    "sys.path"
   ]
  },
  {
   "cell_type": "code",
   "execution_count": 8,
   "metadata": {},
   "outputs": [],
   "source": [
    "import numpy as np\n",
    "import torch\n",
    "import torch.utils.data as data\n",
    "import tools.generate_data as gd"
   ]
  },
  {
   "cell_type": "code",
   "execution_count": 9,
   "metadata": {},
   "outputs": [],
   "source": [
    "true_w = torch.tensor([2, -3.4])\n",
    "true_b = 4.2\n",
    "features, labels = gd.synthetic_data(true_w, true_b, 1000)"
   ]
  },
  {
   "cell_type": "code",
   "execution_count": 10,
   "metadata": {},
   "outputs": [],
   "source": [
    "batch_size = 10\n",
    "data_iter = gd.load_array((features, labels), batch_size)"
   ]
  },
  {
   "cell_type": "code",
   "execution_count": 13,
   "metadata": {},
   "outputs": [
    {
     "data": {
      "text/plain": [
       "[tensor([[ 0.6649,  0.0398],\n",
       "         [-0.0765,  0.1883],\n",
       "         [-1.6038,  2.1126],\n",
       "         [ 1.2493,  2.4497],\n",
       "         [ 0.4852,  1.3084],\n",
       "         [-0.2335, -0.5167],\n",
       "         [-0.6052, -0.3602],\n",
       "         [-0.5214, -0.3050],\n",
       "         [ 0.1555, -0.0937],\n",
       "         [ 0.3272,  1.8171]]),\n",
       " tensor([[ 5.3954],\n",
       "         [ 3.4038],\n",
       "         [-6.2070],\n",
       "         [-1.6269],\n",
       "         [ 0.7232],\n",
       "         [ 5.4825],\n",
       "         [ 4.2206],\n",
       "         [ 4.2069],\n",
       "         [ 4.8236],\n",
       "         [-1.3097]])]"
      ]
     },
     "execution_count": 13,
     "metadata": {},
     "output_type": "execute_result"
    }
   ],
   "source": [
    "next(iter(data_iter))"
   ]
  }
 ],
 "metadata": {
  "interpreter": {
   "hash": "fa08476c79a14107fff6c30a61c56e3cfd7a111c8dc4c8fc938621cbf6ddb6b6"
  },
  "kernelspec": {
   "display_name": "Python 3.8.12 ('base')",
   "language": "python",
   "name": "python3"
  },
  "language_info": {
   "codemirror_mode": {
    "name": "ipython",
    "version": 3
   },
   "file_extension": ".py",
   "mimetype": "text/x-python",
   "name": "python",
   "nbconvert_exporter": "python",
   "pygments_lexer": "ipython3",
   "version": "3.8.12"
  },
  "orig_nbformat": 4
 },
 "nbformat": 4,
 "nbformat_minor": 2
}
