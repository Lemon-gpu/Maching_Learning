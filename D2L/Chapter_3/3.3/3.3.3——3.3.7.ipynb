{
 "cells": [
  {
   "cell_type": "code",
   "execution_count": 1,
   "metadata": {},
   "outputs": [
    {
     "data": {
      "text/plain": [
       "['c:\\\\Users\\\\ss666\\\\OneDrive\\\\MyJob\\\\Maching_Learning\\\\D2L\\\\Chapter_3\\\\3.3',\n",
       " 'd:\\\\ProgramData\\\\Anaconda3\\\\python38.zip',\n",
       " 'd:\\\\ProgramData\\\\Anaconda3\\\\DLLs',\n",
       " 'd:\\\\ProgramData\\\\Anaconda3\\\\lib',\n",
       " 'd:\\\\ProgramData\\\\Anaconda3',\n",
       " '',\n",
       " 'd:\\\\ProgramData\\\\Anaconda3\\\\lib\\\\site-packages',\n",
       " 'd:\\\\ProgramData\\\\Anaconda3\\\\lib\\\\site-packages\\\\locket-0.2.1-py3.8.egg',\n",
       " 'd:\\\\ProgramData\\\\Anaconda3\\\\lib\\\\site-packages\\\\win32',\n",
       " 'd:\\\\ProgramData\\\\Anaconda3\\\\lib\\\\site-packages\\\\win32\\\\lib',\n",
       " 'd:\\\\ProgramData\\\\Anaconda3\\\\lib\\\\site-packages\\\\Pythonwin',\n",
       " 'd:\\\\ProgramData\\\\Anaconda3\\\\lib\\\\site-packages\\\\IPython\\\\extensions',\n",
       " 'C:\\\\Users\\\\ss666\\\\.ipython',\n",
       " 'C:\\\\Users\\\\ss666\\\\AppData\\\\Roaming\\\\Python\\\\Python38\\\\site-packages',\n",
       " 'C:\\\\Users\\\\ss666\\\\OneDrive\\\\MyJob\\\\Maching_Learning\\\\D2L']"
      ]
     },
     "execution_count": 1,
     "metadata": {},
     "output_type": "execute_result"
    }
   ],
   "source": [
    "import sys\n",
    "sys.path.append(r\"C:\\Users\\ss666\\OneDrive\\MyJob\\Maching_Learning\\D2L\")\n",
    "sys.path"
   ]
  },
  {
   "cell_type": "code",
   "execution_count": 2,
   "metadata": {},
   "outputs": [],
   "source": [
    "import torch\n",
    "import torch.nn as nn\n",
    "import torch.utils.data as data\n",
    "import tools.generate_data as gd"
   ]
  },
  {
   "cell_type": "code",
   "execution_count": 3,
   "metadata": {},
   "outputs": [
    {
     "data": {
      "text/plain": [
       "tensor([0.])"
      ]
     },
     "execution_count": 3,
     "metadata": {},
     "output_type": "execute_result"
    }
   ],
   "source": [
    "net = nn.Sequential(nn.Linear(2, 1))\n",
    "net[0].weight.data.normal_(0, 0.01)\n",
    "net[0].bias.data.fill_(0)"
   ]
  },
  {
   "cell_type": "code",
   "execution_count": 4,
   "metadata": {},
   "outputs": [],
   "source": [
    "loss = nn.MSELoss()\n",
    "trainer = torch.optim.SGD(net.parameters(), lr=0.03)"
   ]
  },
  {
   "cell_type": "code",
   "execution_count": 5,
   "metadata": {},
   "outputs": [],
   "source": [
    "ground_true_w = torch.tensor([2, 3.4])\n",
    "ground_true_b = torch.tensor([3])\n",
    "generate_features, generate_labels = gd.synthetic_data(ground_true_w, ground_true_b, 1000)\n",
    "data_iter = gd.data_iter(10, generate_features, generate_labels)"
   ]
  },
  {
   "cell_type": "code",
   "execution_count": 6,
   "metadata": {},
   "outputs": [
    {
     "name": "stdout",
     "output_type": "stream",
     "text": [
      "epoch  0  with loss  tensor(0.0001, grad_fn=<MseLossBackward>)\n",
      "epoch  1  with loss  tensor(0.0001, grad_fn=<MseLossBackward>)\n",
      "epoch  2  with loss  tensor(0.0001, grad_fn=<MseLossBackward>)\n",
      "epoch  3  with loss  tensor(0.0001, grad_fn=<MseLossBackward>)\n",
      "epoch  4  with loss  tensor(0.0001, grad_fn=<MseLossBackward>)\n"
     ]
    }
   ],
   "source": [
    "num_epochs = 5\n",
    "for epoch in range(0, num_epochs):\n",
    "    for X, y in data_iter:\n",
    "        l = loss(net(X), y)\n",
    "        trainer.zero_grad()\n",
    "        l.backward()\n",
    "        trainer.step()\n",
    "    l = loss(net(generate_features), generate_labels)\n",
    "    print(\"epoch \", epoch, \" with loss \", l)"
   ]
  },
  {
   "cell_type": "code",
   "execution_count": 7,
   "metadata": {},
   "outputs": [
    {
     "name": "stdout",
     "output_type": "stream",
     "text": [
      "w bias:  tensor([[0.0019, 0.0038]])\n",
      "b bias:  tensor([0.0040])\n"
     ]
    }
   ],
   "source": [
    "predict_w = net[0].weight.data\n",
    "predict_b = net[0].bias.data\n",
    "print(\"w bias: \", ground_true_w - predict_w)\n",
    "print(\"b bias: \", ground_true_b - predict_b)"
   ]
  }
 ],
 "metadata": {
  "interpreter": {
   "hash": "fa08476c79a14107fff6c30a61c56e3cfd7a111c8dc4c8fc938621cbf6ddb6b6"
  },
  "kernelspec": {
   "display_name": "Python 3.8.12 ('base')",
   "language": "python",
   "name": "python3"
  },
  "language_info": {
   "codemirror_mode": {
    "name": "ipython",
    "version": 3
   },
   "file_extension": ".py",
   "mimetype": "text/x-python",
   "name": "python",
   "nbconvert_exporter": "python",
   "pygments_lexer": "ipython3",
   "version": "3.8.12"
  },
  "orig_nbformat": 4
 },
 "nbformat": 4,
 "nbformat_minor": 2
}
