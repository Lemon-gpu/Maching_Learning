{
 "cells": [
  {
   "cell_type": "code",
   "execution_count": 13,
   "metadata": {},
   "outputs": [
    {
     "data": {
      "text/plain": [
       "['c:\\\\Users\\\\ss666\\\\OneDrive\\\\MyJob\\\\Maching_Learning\\\\D2L\\\\Chapter_3\\\\3.5',\n",
       " 'd:\\\\ProgramData\\\\Anaconda3\\\\python38.zip',\n",
       " 'd:\\\\ProgramData\\\\Anaconda3\\\\DLLs',\n",
       " 'd:\\\\ProgramData\\\\Anaconda3\\\\lib',\n",
       " 'd:\\\\ProgramData\\\\Anaconda3',\n",
       " '',\n",
       " 'd:\\\\ProgramData\\\\Anaconda3\\\\lib\\\\site-packages',\n",
       " 'd:\\\\ProgramData\\\\Anaconda3\\\\lib\\\\site-packages\\\\locket-0.2.1-py3.8.egg',\n",
       " 'd:\\\\ProgramData\\\\Anaconda3\\\\lib\\\\site-packages\\\\win32',\n",
       " 'd:\\\\ProgramData\\\\Anaconda3\\\\lib\\\\site-packages\\\\win32\\\\lib',\n",
       " 'd:\\\\ProgramData\\\\Anaconda3\\\\lib\\\\site-packages\\\\Pythonwin',\n",
       " 'C:\\\\Users\\\\ss666\\\\AppData\\\\Roaming\\\\Python\\\\Python38\\\\site-packages',\n",
       " 'C:\\\\Users\\\\ss666\\\\OneDrive\\\\MyJob\\\\Maching_Learning\\\\D2L',\n",
       " 'C:\\\\Users\\\\ss666\\\\OneDrive\\\\MyJob\\\\Maching_Learning\\\\D2L',\n",
       " 'C:\\\\Users\\\\ss666\\\\OneDrive\\\\MyJob\\\\Maching_Learning\\\\D2L',\n",
       " 'C:\\\\Users\\\\ss666\\\\OneDrive\\\\MyJob\\\\Maching_Learning\\\\D2L',\n",
       " 'C:\\\\Users\\\\ss666\\\\OneDrive\\\\MyJob\\\\Maching_Learning\\\\D2L']"
      ]
     },
     "execution_count": 13,
     "metadata": {},
     "output_type": "execute_result"
    }
   ],
   "source": [
    "import sys\n",
    "sys.path.append(r\"C:\\Users\\ss666\\OneDrive\\MyJob\\Maching_Learning\\D2L\")\n",
    "sys.path"
   ]
  },
  {
   "cell_type": "code",
   "execution_count": 14,
   "metadata": {},
   "outputs": [],
   "source": [
    "import tools.Fasnion_MNIST as fmnist\n",
    "import torch\n",
    "import tools.Timer as timer"
   ]
  },
  {
   "cell_type": "code",
   "execution_count": 15,
   "metadata": {},
   "outputs": [
    {
     "data": {
      "text/plain": [
       "3.246730327606201"
      ]
     },
     "execution_count": 15,
     "metadata": {},
     "output_type": "execute_result"
    }
   ],
   "source": [
    "train_iter, test_iter = fmnist.load_data_Fashion_MNIST(64)\n",
    "timer = timer.Timer()\n",
    "timer.start()\n",
    "for X, y in train_iter:\n",
    "    pass\n",
    "timer.stop()\n"
   ]
  }
 ],
 "metadata": {
  "interpreter": {
   "hash": "fa08476c79a14107fff6c30a61c56e3cfd7a111c8dc4c8fc938621cbf6ddb6b6"
  },
  "kernelspec": {
   "display_name": "Python 3.8.12 ('base')",
   "language": "python",
   "name": "python3"
  },
  "language_info": {
   "codemirror_mode": {
    "name": "ipython",
    "version": 3
   },
   "file_extension": ".py",
   "mimetype": "text/x-python",
   "name": "python",
   "nbconvert_exporter": "python",
   "pygments_lexer": "ipython3",
   "version": "3.8.12"
  },
  "orig_nbformat": 4
 },
 "nbformat": 4,
 "nbformat_minor": 2
}
