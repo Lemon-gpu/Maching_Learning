{
 "cells": [
  {
   "cell_type": "code",
   "execution_count": 6,
   "metadata": {},
   "outputs": [
    {
     "data": {
      "text/plain": [
       "['c:\\\\Users\\\\Lemon\\\\OneDrive\\\\MyJob\\\\Maching_Learning\\\\D2L\\\\Chapter_3',\n",
       " 'D:\\\\ProgramData\\\\Anaconda3\\\\envs\\\\DeepLearning\\\\python39.zip',\n",
       " 'D:\\\\ProgramData\\\\Anaconda3\\\\envs\\\\DeepLearning\\\\DLLs',\n",
       " 'D:\\\\ProgramData\\\\Anaconda3\\\\envs\\\\DeepLearning\\\\lib',\n",
       " 'D:\\\\ProgramData\\\\Anaconda3\\\\envs\\\\DeepLearning',\n",
       " '',\n",
       " 'D:\\\\ProgramData\\\\Anaconda3\\\\envs\\\\DeepLearning\\\\lib\\\\site-packages',\n",
       " 'D:\\\\ProgramData\\\\Anaconda3\\\\envs\\\\DeepLearning\\\\lib\\\\site-packages\\\\win32',\n",
       " 'D:\\\\ProgramData\\\\Anaconda3\\\\envs\\\\DeepLearning\\\\lib\\\\site-packages\\\\win32\\\\lib',\n",
       " 'D:\\\\ProgramData\\\\Anaconda3\\\\envs\\\\DeepLearning\\\\lib\\\\site-packages\\\\Pythonwin',\n",
       " 'D:\\\\ProgramData\\\\Anaconda3\\\\envs\\\\DeepLearning\\\\lib\\\\site-packages\\\\IPython\\\\extensions',\n",
       " 'C:\\\\Users\\\\Lemon\\\\.ipython',\n",
       " 'C:\\\\Users\\\\Lemon\\\\OneDrive\\\\MyJob\\\\Maching_Learning\\\\D2L',\n",
       " 'C:\\\\Users\\\\Lemon\\\\AppData\\\\Roaming\\\\Python\\\\Python39\\\\site-packages',\n",
       " 'C:\\\\Users\\\\Lemon\\\\AppData\\\\Roaming\\\\Python\\\\Python39\\\\site-packages',\n",
       " 'C:\\\\Users\\\\Lemon\\\\OneDrive\\\\MyJob\\\\Maching_Learning\\\\D2L']"
      ]
     },
     "execution_count": 6,
     "metadata": {},
     "output_type": "execute_result"
    }
   ],
   "source": [
    "import sys\n",
    "sys.path.append(r\"D2L\")\n",
    "sys.path"
   ]
  },
  {
   "cell_type": "code",
   "execution_count": 7,
   "metadata": {},
   "outputs": [],
   "source": [
    "%matplotlib inline\n",
    "import math\n",
    "import time\n",
    "import numpy as np\n",
    "import torch\n",
    "import tools.Timer as Timer"
   ]
  },
  {
   "cell_type": "code",
   "execution_count": 8,
   "metadata": {},
   "outputs": [],
   "source": [
    "n = 10000\n",
    "a = torch.ones(n)\n",
    "b = torch.ones(n)"
   ]
  },
  {
   "cell_type": "code",
   "execution_count": 9,
   "metadata": {},
   "outputs": [],
   "source": [
    "c = torch.zeros(n)\n",
    "timer: Timer.Timer = Timer.Timer()\n",
    "for i in range(n):\n",
    "    c[i] = a[i] + b[i]\n",
    "t1 = timer.stop()"
   ]
  },
  {
   "cell_type": "code",
   "execution_count": 10,
   "metadata": {},
   "outputs": [
    {
     "data": {
      "text/plain": [
       "(0.0919642448425293, 0.0, 0.0)"
      ]
     },
     "execution_count": 10,
     "metadata": {},
     "output_type": "execute_result"
    }
   ],
   "source": [
    "timer.start()\n",
    "d = a + b\n",
    "t2 = timer.stop()\n",
    "t1, t2, t2 / t1"
   ]
  }
 ],
 "metadata": {
  "interpreter": {
   "hash": "dd03a748c44fc3bc72cf1c0bef017c5ed1341062e9dbf83d48d5926c22521d71"
  },
  "kernelspec": {
   "display_name": "Python 3.9.7",
   "language": "python",
   "name": "python3"
  },
  "language_info": {
   "codemirror_mode": {
    "name": "ipython",
    "version": 3
   },
   "file_extension": ".py",
   "mimetype": "text/x-python",
   "name": "python",
   "nbconvert_exporter": "python",
   "pygments_lexer": "ipython3",
   "version": "3.9.7"
  },
  "orig_nbformat": 4
 },
 "nbformat": 4,
 "nbformat_minor": 2
}
