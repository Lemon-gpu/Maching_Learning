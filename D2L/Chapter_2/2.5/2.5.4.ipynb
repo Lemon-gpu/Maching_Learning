{
 "cells": [
  {
   "cell_type": "code",
   "execution_count": 122,
   "metadata": {},
   "outputs": [],
   "source": [
    "%matplotlib inline\n",
    "import torch\n",
    "import matplotlib_inline\n",
    "import matplotlib.pyplot as plt"
   ]
  },
  {
   "cell_type": "code",
   "execution_count": 123,
   "metadata": {},
   "outputs": [],
   "source": [
    "def use_svg_display():\n",
    "    matplotlib_inline.backend_inline.set_matplotlib_formats('svg')\n",
    "    \n",
    "def set_figsize(figsize=(3.5, 2.5)):\n",
    "    use_svg_display()\n",
    "    plt.figure(figsize = figsize)\n",
    "\n",
    "def set_axes(axes: plt.Axes, xlabel, ylabel, xlim, ylim, xscale, yscale, legend):\n",
    "    axes.set_xlabel(xlabel)\n",
    "    axes.set_ylabel(ylabel)\n",
    "    axes.set_xlim(xlim)\n",
    "    axes.set_ylim(ylim)\n",
    "    axes.set_xscale(xscale)\n",
    "    axes.set_yscale(yscale)\n",
    "    if legend:\n",
    "        axes.legend(legend)\n",
    "    axes.grid()\n",
    "#查看是否为单一维度\n",
    "def has_one_axis(X):\n",
    "    return (hasattr(X, \"ndim\") and X.ndim ==1) or (isinstance(X, list) and not hasattr(X[0], \"__len__\"))\n",
    "    \n",
    "def plot(X, Y=None, xlabel=None, ylabel=None, legend=None, xlim=None, ylim=None, xscale=\"linear\", yscale=\"linear\", fmts=(\"-\", \"m--\", \"g-\", \"r:\"), figsize=(3.5, 2.5), axes: plt.Axes=None):\n",
    "#设置图例\n",
    "    if legend is None:\n",
    "        legend = []\n",
    "#设置图像大小\n",
    "    set_figsize(figsize)\n",
    "#设置边框\n",
    "    if axes is None:\n",
    "        axes = plt.gca()\n",
    "#查看是否为单一维度于X轴，是则将其list化\n",
    "    if has_one_axis(X):\n",
    "        X = [X]\n",
    "#查看Y轴\n",
    "    if Y is None:\n",
    "        Y = X #没有任何轴则按照f(x) = x处理\n",
    "    elif has_one_axis(Y):\n",
    "        Y = [Y] #只存在一个轴则将其list化\n",
    "#查看是否为维度相等\n",
    "    if len(X) != len(Y):\n",
    "        X = X * len(Y)\n",
    "#清除axes数据\n",
    "    axes.cla()\n",
    "#绘图\n",
    "    for x, y, fmt in zip(X, Y, fmts): #对于每一个维度而言\n",
    "        if len(x):\n",
    "            axes.plot(x, y, fmt)\n",
    "        else:\n",
    "            axes.plot(y, fmt)\n",
    "    \n",
    "    set_axes(axes, xlabel, ylabel, xlim, ylim, xscale, yscale, legend)\n",
    "    "
   ]
  },
  {
   "cell_type": "code",
   "execution_count": 124,
   "metadata": {},
   "outputs": [],
   "source": [
    "def f(a: torch.Tensor) -> torch.Tensor:\n",
    "    b = a * 2 #y = 2x\n",
    "    c = b\n",
    "    while b.norm() < 1000:\n",
    "        b = b * 2\n",
    "    if b.sum() > 0:\n",
    "        c = b\n",
    "    else:\n",
    "        c = 100 * b\n",
    "    return c"
   ]
  },
  {
   "cell_type": "code",
   "execution_count": 125,
   "metadata": {},
   "outputs": [],
   "source": [
    "a = torch.randn(size=(5, 1), requires_grad=True)\n",
    "d = f(a)\n",
    "d.sum().backward()"
   ]
  },
  {
   "cell_type": "code",
   "execution_count": 126,
   "metadata": {},
   "outputs": [
    {
     "data": {
      "text/plain": [
       "tensor([[True],\n",
       "        [True],\n",
       "        [True],\n",
       "        [True],\n",
       "        [True]])"
      ]
     },
     "execution_count": 126,
     "metadata": {},
     "output_type": "execute_result"
    }
   ],
   "source": [
    "a.grad == d / a"
   ]
  }
 ],
 "metadata": {
  "interpreter": {
   "hash": "dd03a748c44fc3bc72cf1c0bef017c5ed1341062e9dbf83d48d5926c22521d71"
  },
  "kernelspec": {
   "display_name": "Python 3.9.7",
   "language": "python",
   "name": "python3"
  },
  "language_info": {
   "codemirror_mode": {
    "name": "ipython",
    "version": 3
   },
   "file_extension": ".py",
   "mimetype": "text/x-python",
   "name": "python",
   "nbconvert_exporter": "python",
   "pygments_lexer": "ipython3",
   "version": "3.9.7"
  },
  "orig_nbformat": 4
 },
 "nbformat": 4,
 "nbformat_minor": 2
}
