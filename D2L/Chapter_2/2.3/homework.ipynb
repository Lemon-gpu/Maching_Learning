{
 "cells": [
  {
   "cell_type": "code",
   "execution_count": 1,
   "metadata": {},
   "outputs": [],
   "source": [
    "import torch"
   ]
  },
  {
   "cell_type": "code",
   "execution_count": 2,
   "metadata": {},
   "outputs": [
    {
     "data": {
      "text/plain": [
       "2"
      ]
     },
     "execution_count": 2,
     "metadata": {},
     "output_type": "execute_result"
    }
   ],
   "source": [
    "X = torch.ones((2, 3, 4))\n",
    "len(X)"
   ]
  },
  {
   "cell_type": "code",
   "execution_count": 5,
   "metadata": {},
   "outputs": [
    {
     "data": {
      "text/plain": [
       "tensor([[ 0.4250,  1.0015, -0.4008, -1.3880],\n",
       "        [ 0.0922,  1.1634,  0.9237,  1.5540],\n",
       "        [-0.0299, -2.1818, -1.8549, -1.6959],\n",
       "        [-0.0161,  0.4360,  0.9930,  1.3330],\n",
       "        [ 0.5288,  0.5809,  1.3390,  1.1968]])"
      ]
     },
     "execution_count": 5,
     "metadata": {},
     "output_type": "execute_result"
    }
   ],
   "source": [
    "A = torch.randn((5,4))\n",
    "sum_A = A.sum(0, True)\n",
    "A / sum_A"
   ]
  },
  {
   "cell_type": "code",
   "execution_count": 6,
   "metadata": {},
   "outputs": [
    {
     "data": {
      "text/plain": [
       "(tensor([[ 2.1456, -0.1921,  1.4645, -1.4812],\n",
       "         [ 1.3936,  1.4382,  2.2070, -1.3444],\n",
       "         [-0.5907, -0.5172, -2.3456, -0.4400]]),\n",
       " tensor([[ 1.0005, -0.3614,  0.9786, -0.5134],\n",
       "         [ 1.9480,  1.0902,  0.3473, -2.7522]]),\n",
       " tensor([[ 1.3373,  3.8215, -4.0546],\n",
       "         [ 0.5994, -0.1270,  0.1610]]))"
      ]
     },
     "execution_count": 6,
     "metadata": {},
     "output_type": "execute_result"
    }
   ],
   "source": [
    "B = torch.randn(2,3,4)\n",
    "B.sum(0), B.sum(1), B.sum(2)"
   ]
  },
  {
   "cell_type": "code",
   "execution_count": 7,
   "metadata": {},
   "outputs": [
    {
     "data": {
      "text/plain": [
       "tensor(4.7508)"
      ]
     },
     "execution_count": 7,
     "metadata": {},
     "output_type": "execute_result"
    }
   ],
   "source": [
    "B.norm()"
   ]
  }
 ],
 "metadata": {
  "interpreter": {
   "hash": "9aa6110098b3299b795196e6c9dcb49db2c9e152040d5d49a436e99c7997c045"
  },
  "kernelspec": {
   "display_name": "Python 3.9.7 64-bit (conda)",
   "language": "python",
   "name": "python3"
  },
  "language_info": {
   "codemirror_mode": {
    "name": "ipython",
    "version": 3
   },
   "file_extension": ".py",
   "mimetype": "text/x-python",
   "name": "python",
   "nbconvert_exporter": "python",
   "pygments_lexer": "ipython3",
   "version": "3.9.7"
  },
  "orig_nbformat": 4
 },
 "nbformat": 4,
 "nbformat_minor": 2
}
