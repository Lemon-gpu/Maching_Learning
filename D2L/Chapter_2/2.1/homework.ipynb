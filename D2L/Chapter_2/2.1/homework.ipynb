{
 "cells": [
  {
   "cell_type": "code",
   "execution_count": 2,
   "metadata": {},
   "outputs": [],
   "source": [
    "import torch"
   ]
  },
  {
   "cell_type": "code",
   "execution_count": 4,
   "metadata": {},
   "outputs": [
    {
     "data": {
      "text/plain": [
       "(tensor([[False, False, False, False, False],\n",
       "         [False, False, False, False, False],\n",
       "         [False, False, False, False, False]]),\n",
       " tensor([[False, False, False, False, False],\n",
       "         [False, False, False, False, False],\n",
       "         [False, False, False, False, False]]),\n",
       " tensor([[True, True, True, True, True],\n",
       "         [True, True, True, True, True],\n",
       "         [True, True, True, True, True]]))"
      ]
     },
     "execution_count": 4,
     "metadata": {},
     "output_type": "execute_result"
    }
   ],
   "source": [
    "X = torch.arange(15).reshape((3, 5))\n",
    "Y = torch.arange(1, 16).reshape((3, 5))\n",
    "X == Y, X > Y, X < Y\n"
   ]
  },
  {
   "cell_type": "code",
   "execution_count": 6,
   "metadata": {},
   "outputs": [
    {
     "data": {
      "text/plain": [
       "tensor([[ 1.4023,  1.7922,  0.5583,  0.7220,  0.2728,  0.2294,  0.8252,  0.6255,\n",
       "         -0.3301,  1.5404,  1.2986,  1.8839],\n",
       "        [ 2.1481,  2.5380,  1.3041,  1.4677,  1.0186,  0.9751,  1.5710,  1.3713,\n",
       "          0.4157,  2.2862,  2.0444,  2.6296],\n",
       "        [ 0.8031,  1.1930, -0.0410,  0.1227, -0.3264, -0.3699,  0.2260,  0.0263,\n",
       "         -0.9293,  0.9412,  0.6994,  1.2846],\n",
       "        [-0.8617, -0.4717, -1.7057, -1.5420, -1.9912, -2.0346, -1.4388, -1.6385,\n",
       "         -2.5941, -0.7236, -0.9654, -0.3801],\n",
       "        [ 0.7016,  1.0915, -0.1425,  0.0212, -0.4279, -0.4714,  0.1245, -0.0752,\n",
       "         -1.0308,  0.8396,  0.5979,  1.1831],\n",
       "        [ 0.0276,  0.4175, -0.8165, -0.6528, -1.1019, -1.1454, -0.5495, -0.7492,\n",
       "         -1.7048,  0.1657, -0.0761,  0.5091],\n",
       "        [-0.3206,  0.0693, -1.1646, -1.0010, -1.4501, -1.4936, -0.8977, -1.0974,\n",
       "         -2.0530, -0.1825, -0.4243,  0.1609],\n",
       "        [-1.4236, -1.0337, -2.2676, -2.1039, -2.5531, -2.5965, -2.0007, -2.2004,\n",
       "         -3.1560, -1.2855, -1.5273, -0.9420],\n",
       "        [-0.0712,  0.3187, -0.9153, -0.7516, -1.2007, -1.2442, -0.6483, -0.8480,\n",
       "         -1.8036,  0.0669, -0.1749,  0.4103],\n",
       "        [ 0.2846,  0.6745, -0.5594, -0.3957, -0.8449, -0.8883, -0.2925, -0.4922,\n",
       "         -1.4478,  0.4227,  0.1809,  0.7662],\n",
       "        [ 0.9019,  1.2918,  0.0578,  0.2215, -0.2276, -0.2711,  0.3248,  0.1251,\n",
       "         -0.8305,  1.0400,  0.7982,  1.3834],\n",
       "        [ 1.0260,  1.4159,  0.1819,  0.3456, -0.1035, -0.1470,  0.4489,  0.2492,\n",
       "         -0.7064,  1.1640,  0.9223,  1.5075]])"
      ]
     },
     "execution_count": 6,
     "metadata": {},
     "output_type": "execute_result"
    }
   ],
   "source": [
    "a = torch.randn(12).reshape(12,1)\n",
    "b = torch.randn(12).reshape(1,12)\n",
    "a + b"
   ]
  }
 ],
 "metadata": {
  "interpreter": {
   "hash": "9aa6110098b3299b795196e6c9dcb49db2c9e152040d5d49a436e99c7997c045"
  },
  "kernelspec": {
   "display_name": "Python 3.9.7 64-bit ('DeepLearning': conda)",
   "language": "python",
   "name": "python3"
  },
  "language_info": {
   "codemirror_mode": {
    "name": "ipython",
    "version": 3
   },
   "file_extension": ".py",
   "mimetype": "text/x-python",
   "name": "python",
   "nbconvert_exporter": "python",
   "pygments_lexer": "ipython3",
   "version": "3.9.7"
  },
  "orig_nbformat": 4
 },
 "nbformat": 4,
 "nbformat_minor": 2
}
