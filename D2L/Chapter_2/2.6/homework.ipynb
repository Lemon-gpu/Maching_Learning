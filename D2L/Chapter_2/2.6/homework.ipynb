{
 "cells": [
  {
   "cell_type": "code",
   "execution_count": null,
   "metadata": {},
   "outputs": [],
   "source": [
    "import torch"
   ]
  },
  {
   "cell_type": "code",
   "execution_count": 1,
   "metadata": {},
   "outputs": [
    {
     "data": {
      "text/plain": [
       "['c:\\\\Users\\\\Lemon\\\\OneDrive\\\\MyJob\\\\Maching_Learning\\\\D2L\\\\Chapter_2\\\\2.6',\n",
       " 'D:\\\\ProgramData\\\\Anaconda3\\\\envs\\\\DeepLearning\\\\python39.zip',\n",
       " 'D:\\\\ProgramData\\\\Anaconda3\\\\envs\\\\DeepLearning\\\\DLLs',\n",
       " 'D:\\\\ProgramData\\\\Anaconda3\\\\envs\\\\DeepLearning\\\\lib',\n",
       " 'D:\\\\ProgramData\\\\Anaconda3\\\\envs\\\\DeepLearning',\n",
       " '',\n",
       " 'D:\\\\ProgramData\\\\Anaconda3\\\\envs\\\\DeepLearning\\\\lib\\\\site-packages',\n",
       " 'D:\\\\ProgramData\\\\Anaconda3\\\\envs\\\\DeepLearning\\\\lib\\\\site-packages\\\\win32',\n",
       " 'D:\\\\ProgramData\\\\Anaconda3\\\\envs\\\\DeepLearning\\\\lib\\\\site-packages\\\\win32\\\\lib',\n",
       " 'D:\\\\ProgramData\\\\Anaconda3\\\\envs\\\\DeepLearning\\\\lib\\\\site-packages\\\\Pythonwin',\n",
       " 'D:\\\\ProgramData\\\\Anaconda3\\\\envs\\\\DeepLearning\\\\lib\\\\site-packages\\\\IPython\\\\extensions',\n",
       " 'C:\\\\Users\\\\Lemon\\\\.ipython',\n",
       " 'C:\\\\Users\\\\Lemon\\\\AppData\\\\Roaming\\\\Python\\\\Python39\\\\site-packages']"
      ]
     },
     "execution_count": 1,
     "metadata": {},
     "output_type": "execute_result"
    }
   ],
   "source": [
    "import sys\n",
    "sys.path"
   ]
  }
 ],
 "metadata": {
  "interpreter": {
   "hash": "dd03a748c44fc3bc72cf1c0bef017c5ed1341062e9dbf83d48d5926c22521d71"
  },
  "kernelspec": {
   "display_name": "Python 3.9.7",
   "language": "python",
   "name": "python3"
  },
  "language_info": {
   "codemirror_mode": {
    "name": "ipython",
    "version": 3
   },
   "file_extension": ".py",
   "mimetype": "text/x-python",
   "name": "python",
   "nbconvert_exporter": "python",
   "pygments_lexer": "ipython3",
   "version": "3.9.7"
  },
  "orig_nbformat": 4
 },
 "nbformat": 4,
 "nbformat_minor": 2
}
